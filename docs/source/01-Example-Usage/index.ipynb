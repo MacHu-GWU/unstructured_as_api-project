{
 "cells": [
  {
   "cell_type": "markdown",
   "id": "cc2b57e5-9ba9-4146-bd85-963b561d3b87",
   "metadata": {},
   "source": [
    "# Example Usage\n",
    "\n",
    "\n",
    "## Start API Server\n",
    "\n",
    "```bash\n",
    "fastapi dev main.py\n",
    "```"
   ]
  },
  {
   "cell_type": "markdown",
   "id": "d05773324e53f424",
   "metadata": {
    "collapsed": false,
    "jupyter": {
     "outputs_hidden": false
    }
   },
   "source": [
    "## Prepare Environment"
   ]
  },
  {
   "cell_type": "code",
   "execution_count": 18,
   "id": "dbb407b468115ee3",
   "metadata": {
    "ExecuteTime": {
     "end_time": "2024-09-23T16:07:45.354177Z",
     "start_time": "2024-09-23T16:07:44.484557Z"
    },
    "collapsed": false,
    "jupyter": {
     "outputs_hidden": false
    }
   },
   "outputs": [],
   "source": [
    "import requests\n",
    "from pathlib import Path\n",
    "from boto_session_manager import BotoSesManager\n",
    "from s3pathlib import S3Path, context\n",
    "from unstructured_as_api.utils import bytes_to_str\n",
    "from rich import print as rprint\n",
    "\n",
    "dir_here = Path.cwd().absolute()\n",
    "bsm = BotoSesManager(profile_name=\"bmt_app_dev_us_east_1\")\n",
    "context.attach_boto_session(bsm.boto_ses)\n",
    "\n",
    "bucket = f\"{bsm.aws_account_alias}-{bsm.aws_region}-data\"\n",
    "s3dir_root = S3Path(f\"s3://{bucket}/projects/unstructured_as_api/\")\n",
    "s3dir_input = s3dir_root.joinpath(\"input/\")\n",
    "s3dir_output = s3dir_root.joinpath(\"output/\")\n",
    "\n",
    "s3path_in = s3dir_input.joinpath(\"f1040.pdf\")\n",
    "path = dir_here.joinpath(\"f1040.pdf\")\n",
    "s3path_in.write_bytes(path.read_bytes())\n",
    "\n",
    "domain = \"http://127.0.0.1:8000\""
   ]
  },
  {
   "cell_type": "markdown",
   "id": "ddf58903f2cd3d3f",
   "metadata": {
    "collapsed": false,
    "jupyter": {
     "outputs_hidden": false
    }
   },
   "source": [
    "## Run partition PDF in sync\n",
    "\n",
    "This is only suitable for small payload."
   ]
  },
  {
   "cell_type": "code",
   "execution_count": 19,
   "id": "6d99d9c34e466fd3",
   "metadata": {
    "ExecuteTime": {
     "end_time": "2024-09-23T16:07:49.533237Z",
     "start_time": "2024-09-23T16:07:45.355721Z"
    },
    "collapsed": false,
    "jupyter": {
     "outputs_hidden": false
    }
   },
   "outputs": [
    {
     "data": {
      "text/html": [
       "<pre style=\"white-space:pre;overflow-x:auto;line-height:normal;font-family:Menlo,'DejaVu Sans Mono',consolas,'Courier New',monospace\"><span style=\"font-weight: bold\">[</span>\n",
       "    <span style=\"font-weight: bold\">{</span>\n",
       "        <span style=\"color: #008000; text-decoration-color: #008000\">'type'</span>: <span style=\"color: #008000; text-decoration-color: #008000\">'Header'</span>,\n",
       "        <span style=\"color: #008000; text-decoration-color: #008000\">'element_id'</span>: <span style=\"color: #008000; text-decoration-color: #008000\">'c9b88c54ac0941785ef13c4b9adee550'</span>,\n",
       "        <span style=\"color: #008000; text-decoration-color: #008000\">'text'</span>: <span style=\"color: #008000; text-decoration-color: #008000\">'m1040'</span>,\n",
       "        <span style=\"color: #008000; text-decoration-color: #008000\">'metadata'</span>: <span style=\"font-weight: bold\">{</span>\n",
       "            <span style=\"color: #008000; text-decoration-color: #008000\">'coordinates'</span>: <span style=\"font-weight: bold\">{</span>\n",
       "                <span style=\"color: #008000; text-decoration-color: #008000\">'points'</span>: <span style=\"font-weight: bold\">[</span>\n",
       "                    <span style=\"font-weight: bold\">[</span><span style=\"color: #008080; text-decoration-color: #008080; font-weight: bold\">36.0960786</span>, <span style=\"color: #008080; text-decoration-color: #008080; font-weight: bold\">35.65599999999995</span><span style=\"font-weight: bold\">]</span>,\n",
       "                    <span style=\"font-weight: bold\">[</span><span style=\"color: #008080; text-decoration-color: #008080; font-weight: bold\">36.0960786</span>, <span style=\"color: #008080; text-decoration-color: #008080; font-weight: bold\">59.65599999999995</span><span style=\"font-weight: bold\">]</span>,\n",
       "                    <span style=\"font-weight: bold\">[</span><span style=\"color: #008080; text-decoration-color: #008080; font-weight: bold\">96.552</span>, <span style=\"color: #008080; text-decoration-color: #008080; font-weight: bold\">59.65599999999995</span><span style=\"font-weight: bold\">]</span>,\n",
       "                    <span style=\"font-weight: bold\">[</span><span style=\"color: #008080; text-decoration-color: #008080; font-weight: bold\">96.552</span>, <span style=\"color: #008080; text-decoration-color: #008080; font-weight: bold\">35.65599999999995</span><span style=\"font-weight: bold\">]</span>\n",
       "                <span style=\"font-weight: bold\">]</span>,\n",
       "                <span style=\"color: #008000; text-decoration-color: #008000\">'system'</span>: <span style=\"color: #008000; text-decoration-color: #008000\">'PixelSpace'</span>,\n",
       "                <span style=\"color: #008000; text-decoration-color: #008000\">'layout_width'</span>: <span style=\"color: #008080; text-decoration-color: #008080; font-weight: bold\">612</span>,\n",
       "                <span style=\"color: #008000; text-decoration-color: #008000\">'layout_height'</span>: <span style=\"color: #008080; text-decoration-color: #008080; font-weight: bold\">792</span>\n",
       "            <span style=\"font-weight: bold\">}</span>,\n",
       "            <span style=\"color: #008000; text-decoration-color: #008000\">'languages'</span>: <span style=\"font-weight: bold\">[</span><span style=\"color: #008000; text-decoration-color: #008000\">'eng'</span><span style=\"font-weight: bold\">]</span>,\n",
       "            <span style=\"color: #008000; text-decoration-color: #008000\">'page_number'</span>: <span style=\"color: #008080; text-decoration-color: #008080; font-weight: bold\">1</span>,\n",
       "            <span style=\"color: #008000; text-decoration-color: #008000\">'filetype'</span>: <span style=\"color: #008000; text-decoration-color: #008000\">'application/pdf'</span>\n",
       "        <span style=\"font-weight: bold\">}</span>\n",
       "    <span style=\"font-weight: bold\">}</span>,\n",
       "    <span style=\"font-weight: bold\">{</span>\n",
       "        <span style=\"color: #008000; text-decoration-color: #008000\">'type'</span>: <span style=\"color: #008000; text-decoration-color: #008000\">'Header'</span>,\n",
       "        <span style=\"color: #008000; text-decoration-color: #008000\">'element_id'</span>: <span style=\"color: #008000; text-decoration-color: #008000\">'05b202019bdbc5a1627eab34b1fe38be'</span>,\n",
       "        <span style=\"color: #008000; text-decoration-color: #008000\">'text'</span>: <span style=\"color: #008000; text-decoration-color: #008000\">'r o F'</span>,\n",
       "        <span style=\"color: #008000; text-decoration-color: #008000\">'metadata'</span>: <span style=\"font-weight: bold\">{</span>\n",
       "            <span style=\"color: #008000; text-decoration-color: #008000\">'coordinates'</span>: <span style=\"font-weight: bold\">{</span>\n",
       "                <span style=\"color: #008000; text-decoration-color: #008000\">'points'</span>: <span style=\"font-weight: bold\">[</span>\n",
       "                    <span style=\"font-weight: bold\">[</span><span style=\"color: #008080; text-decoration-color: #008080; font-weight: bold\">36.0960786</span>, <span style=\"color: #008080; text-decoration-color: #008080; font-weight: bold\">44.55200000000002</span><span style=\"font-weight: bold\">]</span>,\n",
       "                    <span style=\"font-weight: bold\">[</span><span style=\"color: #008080; text-decoration-color: #008080; font-weight: bold\">36.0960786</span>, <span style=\"color: #008080; text-decoration-color: #008080; font-weight: bold\">54.91899999999998</span><span style=\"font-weight: bold\">]</span>,\n",
       "                    <span style=\"font-weight: bold\">[</span><span style=\"color: #008080; text-decoration-color: #008080; font-weight: bold\">43.0959786</span>, <span style=\"color: #008080; text-decoration-color: #008080; font-weight: bold\">54.91899999999998</span><span style=\"font-weight: bold\">]</span>,\n",
       "                    <span style=\"font-weight: bold\">[</span><span style=\"color: #008080; text-decoration-color: #008080; font-weight: bold\">43.0959786</span>, <span style=\"color: #008080; text-decoration-color: #008080; font-weight: bold\">44.55200000000002</span><span style=\"font-weight: bold\">]</span>\n",
       "                <span style=\"font-weight: bold\">]</span>,\n",
       "                <span style=\"color: #008000; text-decoration-color: #008000\">'system'</span>: <span style=\"color: #008000; text-decoration-color: #008000\">'PixelSpace'</span>,\n",
       "                <span style=\"color: #008000; text-decoration-color: #008000\">'layout_width'</span>: <span style=\"color: #008080; text-decoration-color: #008080; font-weight: bold\">612</span>,\n",
       "                <span style=\"color: #008000; text-decoration-color: #008000\">'layout_height'</span>: <span style=\"color: #008080; text-decoration-color: #008080; font-weight: bold\">792</span>\n",
       "            <span style=\"font-weight: bold\">}</span>,\n",
       "            <span style=\"color: #008000; text-decoration-color: #008000\">'languages'</span>: <span style=\"font-weight: bold\">[</span><span style=\"color: #008000; text-decoration-color: #008000\">'eng'</span><span style=\"font-weight: bold\">]</span>,\n",
       "            <span style=\"color: #008000; text-decoration-color: #008000\">'page_number'</span>: <span style=\"color: #008080; text-decoration-color: #008080; font-weight: bold\">1</span>,\n",
       "            <span style=\"color: #008000; text-decoration-color: #008000\">'filetype'</span>: <span style=\"color: #008000; text-decoration-color: #008000\">'application/pdf'</span>\n",
       "        <span style=\"font-weight: bold\">}</span>\n",
       "    <span style=\"font-weight: bold\">}</span>,\n",
       "    <span style=\"font-weight: bold\">{</span>\n",
       "        <span style=\"color: #008000; text-decoration-color: #008000\">'type'</span>: <span style=\"color: #008000; text-decoration-color: #008000\">'Header'</span>,\n",
       "        <span style=\"color: #008000; text-decoration-color: #008000\">'element_id'</span>: <span style=\"color: #008000; text-decoration-color: #008000\">'ab963be57c2081e52af26aaeb279bc75'</span>,\n",
       "        <span style=\"color: #008000; text-decoration-color: #008000\">'text'</span>: <span style=\"color: #008000; text-decoration-color: #008000\">'Department of the Treasury—Internal Revenue Service U.S. Individual Income Tax Return'</span>,\n",
       "        <span style=\"color: #008000; text-decoration-color: #008000\">'metadata'</span>: <span style=\"font-weight: bold\">{</span>\n",
       "            <span style=\"color: #008000; text-decoration-color: #008000\">'coordinates'</span>: <span style=\"font-weight: bold\">{</span>\n",
       "                <span style=\"color: #008000; text-decoration-color: #008000\">'points'</span>: <span style=\"font-weight: bold\">[</span>\n",
       "                    <span style=\"font-weight: bold\">[</span><span style=\"color: #008080; text-decoration-color: #008080; font-weight: bold\">97.6</span>, <span style=\"color: #008080; text-decoration-color: #008080; font-weight: bold\">38.61799999999994</span><span style=\"font-weight: bold\">]</span>,\n",
       "                    <span style=\"font-weight: bold\">[</span><span style=\"color: #008080; text-decoration-color: #008080; font-weight: bold\">97.6</span>, <span style=\"color: #008080; text-decoration-color: #008080; font-weight: bold\">59.230999999999995</span><span style=\"font-weight: bold\">]</span>,\n",
       "                    <span style=\"font-weight: bold\">[</span><span style=\"color: #008080; text-decoration-color: #008080; font-weight: bold\">283.8399999999999</span>, <span style=\"color: #008080; text-decoration-color: #008080; font-weight: bold\">59.230999999999995</span><span style=\"font-weight: bold\">]</span>,\n",
       "                    <span style=\"font-weight: bold\">[</span><span style=\"color: #008080; text-decoration-color: #008080; font-weight: bold\">283.8399999999999</span>, <span style=\"color: #008080; text-decoration-color: #008080; font-weight: bold\">38.61799999999994</span><span style=\"font-weight: bold\">]</span>\n",
       "                <span style=\"font-weight: bold\">]</span>,\n",
       "                <span style=\"color: #008000; text-decoration-color: #008000\">'system'</span>: <span style=\"color: #008000; text-decoration-color: #008000\">'PixelSpace'</span>,\n",
       "                <span style=\"color: #008000; text-decoration-color: #008000\">'layout_width'</span>: <span style=\"color: #008080; text-decoration-color: #008080; font-weight: bold\">612</span>,\n",
       "                <span style=\"color: #008000; text-decoration-color: #008000\">'layout_height'</span>: <span style=\"color: #008080; text-decoration-color: #008080; font-weight: bold\">792</span>\n",
       "            <span style=\"font-weight: bold\">}</span>,\n",
       "            <span style=\"color: #008000; text-decoration-color: #008000\">'languages'</span>: <span style=\"font-weight: bold\">[</span><span style=\"color: #008000; text-decoration-color: #008000\">'eng'</span><span style=\"font-weight: bold\">]</span>,\n",
       "            <span style=\"color: #008000; text-decoration-color: #008000\">'page_number'</span>: <span style=\"color: #008080; text-decoration-color: #008080; font-weight: bold\">1</span>,\n",
       "            <span style=\"color: #008000; text-decoration-color: #008000\">'filetype'</span>: <span style=\"color: #008000; text-decoration-color: #008000\">'application/pdf'</span>\n",
       "        <span style=\"font-weight: bold\">}</span>\n",
       "    <span style=\"font-weight: bold\">}</span>\n",
       "<span style=\"font-weight: bold\">]</span>\n",
       "</pre>\n"
      ],
      "text/plain": [
       "\u001b[1m[\u001b[0m\n",
       "    \u001b[1m{\u001b[0m\n",
       "        \u001b[32m'type'\u001b[0m: \u001b[32m'Header'\u001b[0m,\n",
       "        \u001b[32m'element_id'\u001b[0m: \u001b[32m'c9b88c54ac0941785ef13c4b9adee550'\u001b[0m,\n",
       "        \u001b[32m'text'\u001b[0m: \u001b[32m'm1040'\u001b[0m,\n",
       "        \u001b[32m'metadata'\u001b[0m: \u001b[1m{\u001b[0m\n",
       "            \u001b[32m'coordinates'\u001b[0m: \u001b[1m{\u001b[0m\n",
       "                \u001b[32m'points'\u001b[0m: \u001b[1m[\u001b[0m\n",
       "                    \u001b[1m[\u001b[0m\u001b[1;36m36.0960786\u001b[0m, \u001b[1;36m35.65599999999995\u001b[0m\u001b[1m]\u001b[0m,\n",
       "                    \u001b[1m[\u001b[0m\u001b[1;36m36.0960786\u001b[0m, \u001b[1;36m59.65599999999995\u001b[0m\u001b[1m]\u001b[0m,\n",
       "                    \u001b[1m[\u001b[0m\u001b[1;36m96.552\u001b[0m, \u001b[1;36m59.65599999999995\u001b[0m\u001b[1m]\u001b[0m,\n",
       "                    \u001b[1m[\u001b[0m\u001b[1;36m96.552\u001b[0m, \u001b[1;36m35.65599999999995\u001b[0m\u001b[1m]\u001b[0m\n",
       "                \u001b[1m]\u001b[0m,\n",
       "                \u001b[32m'system'\u001b[0m: \u001b[32m'PixelSpace'\u001b[0m,\n",
       "                \u001b[32m'layout_width'\u001b[0m: \u001b[1;36m612\u001b[0m,\n",
       "                \u001b[32m'layout_height'\u001b[0m: \u001b[1;36m792\u001b[0m\n",
       "            \u001b[1m}\u001b[0m,\n",
       "            \u001b[32m'languages'\u001b[0m: \u001b[1m[\u001b[0m\u001b[32m'eng'\u001b[0m\u001b[1m]\u001b[0m,\n",
       "            \u001b[32m'page_number'\u001b[0m: \u001b[1;36m1\u001b[0m,\n",
       "            \u001b[32m'filetype'\u001b[0m: \u001b[32m'application/pdf'\u001b[0m\n",
       "        \u001b[1m}\u001b[0m\n",
       "    \u001b[1m}\u001b[0m,\n",
       "    \u001b[1m{\u001b[0m\n",
       "        \u001b[32m'type'\u001b[0m: \u001b[32m'Header'\u001b[0m,\n",
       "        \u001b[32m'element_id'\u001b[0m: \u001b[32m'05b202019bdbc5a1627eab34b1fe38be'\u001b[0m,\n",
       "        \u001b[32m'text'\u001b[0m: \u001b[32m'r o F'\u001b[0m,\n",
       "        \u001b[32m'metadata'\u001b[0m: \u001b[1m{\u001b[0m\n",
       "            \u001b[32m'coordinates'\u001b[0m: \u001b[1m{\u001b[0m\n",
       "                \u001b[32m'points'\u001b[0m: \u001b[1m[\u001b[0m\n",
       "                    \u001b[1m[\u001b[0m\u001b[1;36m36.0960786\u001b[0m, \u001b[1;36m44.55200000000002\u001b[0m\u001b[1m]\u001b[0m,\n",
       "                    \u001b[1m[\u001b[0m\u001b[1;36m36.0960786\u001b[0m, \u001b[1;36m54.91899999999998\u001b[0m\u001b[1m]\u001b[0m,\n",
       "                    \u001b[1m[\u001b[0m\u001b[1;36m43.0959786\u001b[0m, \u001b[1;36m54.91899999999998\u001b[0m\u001b[1m]\u001b[0m,\n",
       "                    \u001b[1m[\u001b[0m\u001b[1;36m43.0959786\u001b[0m, \u001b[1;36m44.55200000000002\u001b[0m\u001b[1m]\u001b[0m\n",
       "                \u001b[1m]\u001b[0m,\n",
       "                \u001b[32m'system'\u001b[0m: \u001b[32m'PixelSpace'\u001b[0m,\n",
       "                \u001b[32m'layout_width'\u001b[0m: \u001b[1;36m612\u001b[0m,\n",
       "                \u001b[32m'layout_height'\u001b[0m: \u001b[1;36m792\u001b[0m\n",
       "            \u001b[1m}\u001b[0m,\n",
       "            \u001b[32m'languages'\u001b[0m: \u001b[1m[\u001b[0m\u001b[32m'eng'\u001b[0m\u001b[1m]\u001b[0m,\n",
       "            \u001b[32m'page_number'\u001b[0m: \u001b[1;36m1\u001b[0m,\n",
       "            \u001b[32m'filetype'\u001b[0m: \u001b[32m'application/pdf'\u001b[0m\n",
       "        \u001b[1m}\u001b[0m\n",
       "    \u001b[1m}\u001b[0m,\n",
       "    \u001b[1m{\u001b[0m\n",
       "        \u001b[32m'type'\u001b[0m: \u001b[32m'Header'\u001b[0m,\n",
       "        \u001b[32m'element_id'\u001b[0m: \u001b[32m'ab963be57c2081e52af26aaeb279bc75'\u001b[0m,\n",
       "        \u001b[32m'text'\u001b[0m: \u001b[32m'Department of the Treasury—Internal Revenue Service U.S. Individual Income Tax Return'\u001b[0m,\n",
       "        \u001b[32m'metadata'\u001b[0m: \u001b[1m{\u001b[0m\n",
       "            \u001b[32m'coordinates'\u001b[0m: \u001b[1m{\u001b[0m\n",
       "                \u001b[32m'points'\u001b[0m: \u001b[1m[\u001b[0m\n",
       "                    \u001b[1m[\u001b[0m\u001b[1;36m97.6\u001b[0m, \u001b[1;36m38.61799999999994\u001b[0m\u001b[1m]\u001b[0m,\n",
       "                    \u001b[1m[\u001b[0m\u001b[1;36m97.6\u001b[0m, \u001b[1;36m59.230999999999995\u001b[0m\u001b[1m]\u001b[0m,\n",
       "                    \u001b[1m[\u001b[0m\u001b[1;36m283.8399999999999\u001b[0m, \u001b[1;36m59.230999999999995\u001b[0m\u001b[1m]\u001b[0m,\n",
       "                    \u001b[1m[\u001b[0m\u001b[1;36m283.8399999999999\u001b[0m, \u001b[1;36m38.61799999999994\u001b[0m\u001b[1m]\u001b[0m\n",
       "                \u001b[1m]\u001b[0m,\n",
       "                \u001b[32m'system'\u001b[0m: \u001b[32m'PixelSpace'\u001b[0m,\n",
       "                \u001b[32m'layout_width'\u001b[0m: \u001b[1;36m612\u001b[0m,\n",
       "                \u001b[32m'layout_height'\u001b[0m: \u001b[1;36m792\u001b[0m\n",
       "            \u001b[1m}\u001b[0m,\n",
       "            \u001b[32m'languages'\u001b[0m: \u001b[1m[\u001b[0m\u001b[32m'eng'\u001b[0m\u001b[1m]\u001b[0m,\n",
       "            \u001b[32m'page_number'\u001b[0m: \u001b[1;36m1\u001b[0m,\n",
       "            \u001b[32m'filetype'\u001b[0m: \u001b[32m'application/pdf'\u001b[0m\n",
       "        \u001b[1m}\u001b[0m\n",
       "    \u001b[1m}\u001b[0m\n",
       "\u001b[1m]\u001b[0m\n"
      ]
     },
     "metadata": {},
     "output_type": "display_data"
    }
   ],
   "source": [
    "res = requests.post(\n",
    "    f\"{domain}/part_pdf/\",\n",
    "    json={\n",
    "        \"b64_content\": bytes_to_str(path.read_bytes()),\n",
    "    }\n",
    ")\n",
    "rprint(res.json()[\"elements\"][:3])"
   ]
  },
  {
   "cell_type": "markdown",
   "id": "d511a7210c27a238",
   "metadata": {
    "collapsed": false,
    "jupyter": {
     "outputs_hidden": false
    }
   },
   "source": [
    "## Run partition PDF using async API\n",
    "\n",
    "Create an job and get job id."
   ]
  },
  {
   "cell_type": "code",
   "execution_count": 20,
   "id": "750ea531e5ea4822",
   "metadata": {
    "ExecuteTime": {
     "end_time": "2024-09-23T16:08:27.697868Z",
     "start_time": "2024-09-23T16:08:25.153549Z"
    },
    "collapsed": false,
    "jupyter": {
     "outputs_hidden": false
    }
   },
   "outputs": [
    {
     "name": "stdout",
     "output_type": "stream",
     "text": [
      "{'job_id': 'a67ab5a7-74f9-40c1-874a-4c21080f9f80'}\n"
     ]
    }
   ],
   "source": [
    "res = requests.post(\n",
    "    f\"{domain}/start_part_pdf/\",\n",
    "    json={\n",
    "        \"s3uri_in\": s3path_in.uri,\n",
    "        \"s3uri_out\": s3dir_output.uri,\n",
    "    }\n",
    ")\n",
    "res_data = res.json()\n",
    "job_id = res_data[\"job_id\"]\n",
    "print(res_data)"
   ]
  },
  {
   "cell_type": "markdown",
   "id": "f0808b62-5922-425a-8a04-c851ddc18266",
   "metadata": {},
   "source": [
    "Use job id to get the status and results."
   ]
  },
  {
   "cell_type": "code",
   "execution_count": 21,
   "id": "67d65d4a3d194b6e",
   "metadata": {
    "ExecuteTime": {
     "end_time": "2024-09-23T16:08:36.928697Z",
     "start_time": "2024-09-23T16:08:35.275379Z"
    },
    "collapsed": false,
    "jupyter": {
     "outputs_hidden": false
    }
   },
   "outputs": [
    {
     "data": {
      "text/html": [
       "<pre style=\"white-space:pre;overflow-x:auto;line-height:normal;font-family:Menlo,'DejaVu Sans Mono',consolas,'Courier New',monospace\"><span style=\"font-weight: bold\">{</span>\n",
       "    <span style=\"color: #008000; text-decoration-color: #008000\">'status'</span>: <span style=\"color: #008000; text-decoration-color: #008000\">'SUCCEEDED'</span>,\n",
       "    <span style=\"color: #008000; text-decoration-color: #008000\">'elements'</span>: <span style=\"font-weight: bold\">[</span>\n",
       "        <span style=\"font-weight: bold\">{</span>\n",
       "            <span style=\"color: #008000; text-decoration-color: #008000\">'type'</span>: <span style=\"color: #008000; text-decoration-color: #008000\">'Header'</span>,\n",
       "            <span style=\"color: #008000; text-decoration-color: #008000\">'element_id'</span>: <span style=\"color: #008000; text-decoration-color: #008000\">'c9b88c54ac0941785ef13c4b9adee550'</span>,\n",
       "            <span style=\"color: #008000; text-decoration-color: #008000\">'text'</span>: <span style=\"color: #008000; text-decoration-color: #008000\">'m1040'</span>,\n",
       "            <span style=\"color: #008000; text-decoration-color: #008000\">'metadata'</span>: <span style=\"font-weight: bold\">{</span>\n",
       "                <span style=\"color: #008000; text-decoration-color: #008000\">'coordinates'</span>: <span style=\"font-weight: bold\">{</span>\n",
       "                    <span style=\"color: #008000; text-decoration-color: #008000\">'points'</span>: <span style=\"font-weight: bold\">[</span>\n",
       "                        <span style=\"font-weight: bold\">[</span><span style=\"color: #008080; text-decoration-color: #008080; font-weight: bold\">36.0960786</span>, <span style=\"color: #008080; text-decoration-color: #008080; font-weight: bold\">35.65599999999995</span><span style=\"font-weight: bold\">]</span>,\n",
       "                        <span style=\"font-weight: bold\">[</span><span style=\"color: #008080; text-decoration-color: #008080; font-weight: bold\">36.0960786</span>, <span style=\"color: #008080; text-decoration-color: #008080; font-weight: bold\">59.65599999999995</span><span style=\"font-weight: bold\">]</span>,\n",
       "                        <span style=\"font-weight: bold\">[</span><span style=\"color: #008080; text-decoration-color: #008080; font-weight: bold\">96.552</span>, <span style=\"color: #008080; text-decoration-color: #008080; font-weight: bold\">59.65599999999995</span><span style=\"font-weight: bold\">]</span>,\n",
       "                        <span style=\"font-weight: bold\">[</span><span style=\"color: #008080; text-decoration-color: #008080; font-weight: bold\">96.552</span>, <span style=\"color: #008080; text-decoration-color: #008080; font-weight: bold\">35.65599999999995</span><span style=\"font-weight: bold\">]</span>\n",
       "                    <span style=\"font-weight: bold\">]</span>,\n",
       "                    <span style=\"color: #008000; text-decoration-color: #008000\">'system'</span>: <span style=\"color: #008000; text-decoration-color: #008000\">'PixelSpace'</span>,\n",
       "                    <span style=\"color: #008000; text-decoration-color: #008000\">'layout_width'</span>: <span style=\"color: #008080; text-decoration-color: #008080; font-weight: bold\">612</span>,\n",
       "                    <span style=\"color: #008000; text-decoration-color: #008000\">'layout_height'</span>: <span style=\"color: #008080; text-decoration-color: #008080; font-weight: bold\">792</span>\n",
       "                <span style=\"font-weight: bold\">}</span>,\n",
       "                <span style=\"color: #008000; text-decoration-color: #008000\">'languages'</span>: <span style=\"font-weight: bold\">[</span><span style=\"color: #008000; text-decoration-color: #008000\">'eng'</span><span style=\"font-weight: bold\">]</span>,\n",
       "                <span style=\"color: #008000; text-decoration-color: #008000\">'page_number'</span>: <span style=\"color: #008080; text-decoration-color: #008080; font-weight: bold\">1</span>,\n",
       "                <span style=\"color: #008000; text-decoration-color: #008000\">'filetype'</span>: <span style=\"color: #008000; text-decoration-color: #008000\">'application/pdf'</span>\n",
       "            <span style=\"font-weight: bold\">}</span>\n",
       "        <span style=\"font-weight: bold\">}</span>,\n",
       "        <span style=\"font-weight: bold\">{</span>\n",
       "            <span style=\"color: #008000; text-decoration-color: #008000\">'type'</span>: <span style=\"color: #008000; text-decoration-color: #008000\">'Header'</span>,\n",
       "            <span style=\"color: #008000; text-decoration-color: #008000\">'element_id'</span>: <span style=\"color: #008000; text-decoration-color: #008000\">'05b202019bdbc5a1627eab34b1fe38be'</span>,\n",
       "            <span style=\"color: #008000; text-decoration-color: #008000\">'text'</span>: <span style=\"color: #008000; text-decoration-color: #008000\">'r o F'</span>,\n",
       "            <span style=\"color: #008000; text-decoration-color: #008000\">'metadata'</span>: <span style=\"font-weight: bold\">{</span>\n",
       "                <span style=\"color: #008000; text-decoration-color: #008000\">'coordinates'</span>: <span style=\"font-weight: bold\">{</span>\n",
       "                    <span style=\"color: #008000; text-decoration-color: #008000\">'points'</span>: <span style=\"font-weight: bold\">[</span>\n",
       "                        <span style=\"font-weight: bold\">[</span><span style=\"color: #008080; text-decoration-color: #008080; font-weight: bold\">36.0960786</span>, <span style=\"color: #008080; text-decoration-color: #008080; font-weight: bold\">44.55200000000002</span><span style=\"font-weight: bold\">]</span>,\n",
       "                        <span style=\"font-weight: bold\">[</span><span style=\"color: #008080; text-decoration-color: #008080; font-weight: bold\">36.0960786</span>, <span style=\"color: #008080; text-decoration-color: #008080; font-weight: bold\">54.91899999999998</span><span style=\"font-weight: bold\">]</span>,\n",
       "                        <span style=\"font-weight: bold\">[</span><span style=\"color: #008080; text-decoration-color: #008080; font-weight: bold\">43.0959786</span>, <span style=\"color: #008080; text-decoration-color: #008080; font-weight: bold\">54.91899999999998</span><span style=\"font-weight: bold\">]</span>,\n",
       "                        <span style=\"font-weight: bold\">[</span><span style=\"color: #008080; text-decoration-color: #008080; font-weight: bold\">43.0959786</span>, <span style=\"color: #008080; text-decoration-color: #008080; font-weight: bold\">44.55200000000002</span><span style=\"font-weight: bold\">]</span>\n",
       "                    <span style=\"font-weight: bold\">]</span>,\n",
       "                    <span style=\"color: #008000; text-decoration-color: #008000\">'system'</span>: <span style=\"color: #008000; text-decoration-color: #008000\">'PixelSpace'</span>,\n",
       "                    <span style=\"color: #008000; text-decoration-color: #008000\">'layout_width'</span>: <span style=\"color: #008080; text-decoration-color: #008080; font-weight: bold\">612</span>,\n",
       "                    <span style=\"color: #008000; text-decoration-color: #008000\">'layout_height'</span>: <span style=\"color: #008080; text-decoration-color: #008080; font-weight: bold\">792</span>\n",
       "                <span style=\"font-weight: bold\">}</span>,\n",
       "                <span style=\"color: #008000; text-decoration-color: #008000\">'languages'</span>: <span style=\"font-weight: bold\">[</span><span style=\"color: #008000; text-decoration-color: #008000\">'eng'</span><span style=\"font-weight: bold\">]</span>,\n",
       "                <span style=\"color: #008000; text-decoration-color: #008000\">'page_number'</span>: <span style=\"color: #008080; text-decoration-color: #008080; font-weight: bold\">1</span>,\n",
       "                <span style=\"color: #008000; text-decoration-color: #008000\">'filetype'</span>: <span style=\"color: #008000; text-decoration-color: #008000\">'application/pdf'</span>\n",
       "            <span style=\"font-weight: bold\">}</span>\n",
       "        <span style=\"font-weight: bold\">}</span>,\n",
       "        <span style=\"font-weight: bold\">{</span>\n",
       "            <span style=\"color: #008000; text-decoration-color: #008000\">'type'</span>: <span style=\"color: #008000; text-decoration-color: #008000\">'Header'</span>,\n",
       "            <span style=\"color: #008000; text-decoration-color: #008000\">'element_id'</span>: <span style=\"color: #008000; text-decoration-color: #008000\">'ab963be57c2081e52af26aaeb279bc75'</span>,\n",
       "            <span style=\"color: #008000; text-decoration-color: #008000\">'text'</span>: <span style=\"color: #008000; text-decoration-color: #008000\">'Department of the Treasury—Internal Revenue Service U.S. Individual Income Tax Return'</span>,\n",
       "            <span style=\"color: #008000; text-decoration-color: #008000\">'metadata'</span>: <span style=\"font-weight: bold\">{</span>\n",
       "                <span style=\"color: #008000; text-decoration-color: #008000\">'coordinates'</span>: <span style=\"font-weight: bold\">{</span>\n",
       "                    <span style=\"color: #008000; text-decoration-color: #008000\">'points'</span>: <span style=\"font-weight: bold\">[</span>\n",
       "                        <span style=\"font-weight: bold\">[</span><span style=\"color: #008080; text-decoration-color: #008080; font-weight: bold\">97.6</span>, <span style=\"color: #008080; text-decoration-color: #008080; font-weight: bold\">38.61799999999994</span><span style=\"font-weight: bold\">]</span>,\n",
       "                        <span style=\"font-weight: bold\">[</span><span style=\"color: #008080; text-decoration-color: #008080; font-weight: bold\">97.6</span>, <span style=\"color: #008080; text-decoration-color: #008080; font-weight: bold\">59.230999999999995</span><span style=\"font-weight: bold\">]</span>,\n",
       "                        <span style=\"font-weight: bold\">[</span><span style=\"color: #008080; text-decoration-color: #008080; font-weight: bold\">283.8399999999999</span>, <span style=\"color: #008080; text-decoration-color: #008080; font-weight: bold\">59.230999999999995</span><span style=\"font-weight: bold\">]</span>,\n",
       "                        <span style=\"font-weight: bold\">[</span><span style=\"color: #008080; text-decoration-color: #008080; font-weight: bold\">283.8399999999999</span>, <span style=\"color: #008080; text-decoration-color: #008080; font-weight: bold\">38.61799999999994</span><span style=\"font-weight: bold\">]</span>\n",
       "                    <span style=\"font-weight: bold\">]</span>,\n",
       "                    <span style=\"color: #008000; text-decoration-color: #008000\">'system'</span>: <span style=\"color: #008000; text-decoration-color: #008000\">'PixelSpace'</span>,\n",
       "                    <span style=\"color: #008000; text-decoration-color: #008000\">'layout_width'</span>: <span style=\"color: #008080; text-decoration-color: #008080; font-weight: bold\">612</span>,\n",
       "                    <span style=\"color: #008000; text-decoration-color: #008000\">'layout_height'</span>: <span style=\"color: #008080; text-decoration-color: #008080; font-weight: bold\">792</span>\n",
       "                <span style=\"font-weight: bold\">}</span>,\n",
       "                <span style=\"color: #008000; text-decoration-color: #008000\">'languages'</span>: <span style=\"font-weight: bold\">[</span><span style=\"color: #008000; text-decoration-color: #008000\">'eng'</span><span style=\"font-weight: bold\">]</span>,\n",
       "                <span style=\"color: #008000; text-decoration-color: #008000\">'page_number'</span>: <span style=\"color: #008080; text-decoration-color: #008080; font-weight: bold\">1</span>,\n",
       "                <span style=\"color: #008000; text-decoration-color: #008000\">'filetype'</span>: <span style=\"color: #008000; text-decoration-color: #008000\">'application/pdf'</span>\n",
       "            <span style=\"font-weight: bold\">}</span>\n",
       "        <span style=\"font-weight: bold\">}</span>\n",
       "    <span style=\"font-weight: bold\">]</span>\n",
       "<span style=\"font-weight: bold\">}</span>\n",
       "</pre>\n"
      ],
      "text/plain": [
       "\u001b[1m{\u001b[0m\n",
       "    \u001b[32m'status'\u001b[0m: \u001b[32m'SUCCEEDED'\u001b[0m,\n",
       "    \u001b[32m'elements'\u001b[0m: \u001b[1m[\u001b[0m\n",
       "        \u001b[1m{\u001b[0m\n",
       "            \u001b[32m'type'\u001b[0m: \u001b[32m'Header'\u001b[0m,\n",
       "            \u001b[32m'element_id'\u001b[0m: \u001b[32m'c9b88c54ac0941785ef13c4b9adee550'\u001b[0m,\n",
       "            \u001b[32m'text'\u001b[0m: \u001b[32m'm1040'\u001b[0m,\n",
       "            \u001b[32m'metadata'\u001b[0m: \u001b[1m{\u001b[0m\n",
       "                \u001b[32m'coordinates'\u001b[0m: \u001b[1m{\u001b[0m\n",
       "                    \u001b[32m'points'\u001b[0m: \u001b[1m[\u001b[0m\n",
       "                        \u001b[1m[\u001b[0m\u001b[1;36m36.0960786\u001b[0m, \u001b[1;36m35.65599999999995\u001b[0m\u001b[1m]\u001b[0m,\n",
       "                        \u001b[1m[\u001b[0m\u001b[1;36m36.0960786\u001b[0m, \u001b[1;36m59.65599999999995\u001b[0m\u001b[1m]\u001b[0m,\n",
       "                        \u001b[1m[\u001b[0m\u001b[1;36m96.552\u001b[0m, \u001b[1;36m59.65599999999995\u001b[0m\u001b[1m]\u001b[0m,\n",
       "                        \u001b[1m[\u001b[0m\u001b[1;36m96.552\u001b[0m, \u001b[1;36m35.65599999999995\u001b[0m\u001b[1m]\u001b[0m\n",
       "                    \u001b[1m]\u001b[0m,\n",
       "                    \u001b[32m'system'\u001b[0m: \u001b[32m'PixelSpace'\u001b[0m,\n",
       "                    \u001b[32m'layout_width'\u001b[0m: \u001b[1;36m612\u001b[0m,\n",
       "                    \u001b[32m'layout_height'\u001b[0m: \u001b[1;36m792\u001b[0m\n",
       "                \u001b[1m}\u001b[0m,\n",
       "                \u001b[32m'languages'\u001b[0m: \u001b[1m[\u001b[0m\u001b[32m'eng'\u001b[0m\u001b[1m]\u001b[0m,\n",
       "                \u001b[32m'page_number'\u001b[0m: \u001b[1;36m1\u001b[0m,\n",
       "                \u001b[32m'filetype'\u001b[0m: \u001b[32m'application/pdf'\u001b[0m\n",
       "            \u001b[1m}\u001b[0m\n",
       "        \u001b[1m}\u001b[0m,\n",
       "        \u001b[1m{\u001b[0m\n",
       "            \u001b[32m'type'\u001b[0m: \u001b[32m'Header'\u001b[0m,\n",
       "            \u001b[32m'element_id'\u001b[0m: \u001b[32m'05b202019bdbc5a1627eab34b1fe38be'\u001b[0m,\n",
       "            \u001b[32m'text'\u001b[0m: \u001b[32m'r o F'\u001b[0m,\n",
       "            \u001b[32m'metadata'\u001b[0m: \u001b[1m{\u001b[0m\n",
       "                \u001b[32m'coordinates'\u001b[0m: \u001b[1m{\u001b[0m\n",
       "                    \u001b[32m'points'\u001b[0m: \u001b[1m[\u001b[0m\n",
       "                        \u001b[1m[\u001b[0m\u001b[1;36m36.0960786\u001b[0m, \u001b[1;36m44.55200000000002\u001b[0m\u001b[1m]\u001b[0m,\n",
       "                        \u001b[1m[\u001b[0m\u001b[1;36m36.0960786\u001b[0m, \u001b[1;36m54.91899999999998\u001b[0m\u001b[1m]\u001b[0m,\n",
       "                        \u001b[1m[\u001b[0m\u001b[1;36m43.0959786\u001b[0m, \u001b[1;36m54.91899999999998\u001b[0m\u001b[1m]\u001b[0m,\n",
       "                        \u001b[1m[\u001b[0m\u001b[1;36m43.0959786\u001b[0m, \u001b[1;36m44.55200000000002\u001b[0m\u001b[1m]\u001b[0m\n",
       "                    \u001b[1m]\u001b[0m,\n",
       "                    \u001b[32m'system'\u001b[0m: \u001b[32m'PixelSpace'\u001b[0m,\n",
       "                    \u001b[32m'layout_width'\u001b[0m: \u001b[1;36m612\u001b[0m,\n",
       "                    \u001b[32m'layout_height'\u001b[0m: \u001b[1;36m792\u001b[0m\n",
       "                \u001b[1m}\u001b[0m,\n",
       "                \u001b[32m'languages'\u001b[0m: \u001b[1m[\u001b[0m\u001b[32m'eng'\u001b[0m\u001b[1m]\u001b[0m,\n",
       "                \u001b[32m'page_number'\u001b[0m: \u001b[1;36m1\u001b[0m,\n",
       "                \u001b[32m'filetype'\u001b[0m: \u001b[32m'application/pdf'\u001b[0m\n",
       "            \u001b[1m}\u001b[0m\n",
       "        \u001b[1m}\u001b[0m,\n",
       "        \u001b[1m{\u001b[0m\n",
       "            \u001b[32m'type'\u001b[0m: \u001b[32m'Header'\u001b[0m,\n",
       "            \u001b[32m'element_id'\u001b[0m: \u001b[32m'ab963be57c2081e52af26aaeb279bc75'\u001b[0m,\n",
       "            \u001b[32m'text'\u001b[0m: \u001b[32m'Department of the Treasury—Internal Revenue Service U.S. Individual Income Tax Return'\u001b[0m,\n",
       "            \u001b[32m'metadata'\u001b[0m: \u001b[1m{\u001b[0m\n",
       "                \u001b[32m'coordinates'\u001b[0m: \u001b[1m{\u001b[0m\n",
       "                    \u001b[32m'points'\u001b[0m: \u001b[1m[\u001b[0m\n",
       "                        \u001b[1m[\u001b[0m\u001b[1;36m97.6\u001b[0m, \u001b[1;36m38.61799999999994\u001b[0m\u001b[1m]\u001b[0m,\n",
       "                        \u001b[1m[\u001b[0m\u001b[1;36m97.6\u001b[0m, \u001b[1;36m59.230999999999995\u001b[0m\u001b[1m]\u001b[0m,\n",
       "                        \u001b[1m[\u001b[0m\u001b[1;36m283.8399999999999\u001b[0m, \u001b[1;36m59.230999999999995\u001b[0m\u001b[1m]\u001b[0m,\n",
       "                        \u001b[1m[\u001b[0m\u001b[1;36m283.8399999999999\u001b[0m, \u001b[1;36m38.61799999999994\u001b[0m\u001b[1m]\u001b[0m\n",
       "                    \u001b[1m]\u001b[0m,\n",
       "                    \u001b[32m'system'\u001b[0m: \u001b[32m'PixelSpace'\u001b[0m,\n",
       "                    \u001b[32m'layout_width'\u001b[0m: \u001b[1;36m612\u001b[0m,\n",
       "                    \u001b[32m'layout_height'\u001b[0m: \u001b[1;36m792\u001b[0m\n",
       "                \u001b[1m}\u001b[0m,\n",
       "                \u001b[32m'languages'\u001b[0m: \u001b[1m[\u001b[0m\u001b[32m'eng'\u001b[0m\u001b[1m]\u001b[0m,\n",
       "                \u001b[32m'page_number'\u001b[0m: \u001b[1;36m1\u001b[0m,\n",
       "                \u001b[32m'filetype'\u001b[0m: \u001b[32m'application/pdf'\u001b[0m\n",
       "            \u001b[1m}\u001b[0m\n",
       "        \u001b[1m}\u001b[0m\n",
       "    \u001b[1m]\u001b[0m\n",
       "\u001b[1m}\u001b[0m\n"
      ]
     },
     "metadata": {},
     "output_type": "display_data"
    }
   ],
   "source": [
    "res = requests.post(\n",
    "    f\"{domain}/get_part_pdf/\",\n",
    "    json={\n",
    "        \"job_id\": job_id,\n",
    "    }\n",
    ")\n",
    "res_data = res.json()\n",
    "res_data[\"elements\"] = res_data[\"elements\"][:3]\n",
    "rprint(res_data)"
   ]
  }
 ],
 "metadata": {
  "kernelspec": {
   "display_name": "Python 3 (ipykernel)",
   "language": "python",
   "name": "python3"
  },
  "language_info": {
   "codemirror_mode": {
    "name": "ipython",
    "version": 3
   },
   "file_extension": ".py",
   "mimetype": "text/x-python",
   "name": "python",
   "nbconvert_exporter": "python",
   "pygments_lexer": "ipython3",
   "version": "3.10.10"
  }
 },
 "nbformat": 4,
 "nbformat_minor": 5
}
